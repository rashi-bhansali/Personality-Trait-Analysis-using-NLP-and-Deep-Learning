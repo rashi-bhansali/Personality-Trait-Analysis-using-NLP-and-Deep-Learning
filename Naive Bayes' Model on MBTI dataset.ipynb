{
 "cells": [
  {
   "cell_type": "code",
   "execution_count": 8,
   "metadata": {},
   "outputs": [],
   "source": [
    "import numpy as np\n",
    "import pandas as pd\n",
    "import matplotlib.pyplot as plt\n",
    "from sklearn.model_selection import train_test_split\n",
    "from sklearn.feature_extraction.text import CountVectorizer\n",
    "from sklearn.feature_extraction.text import TfidfTransformer\n",
    "from sklearn.naive_bayes import MultinomialNB\n",
    "from sklearn import metrics\n",
    "%matplotlib inline"
   ]
  },
  {
   "cell_type": "markdown",
   "metadata": {},
   "source": [
    "## Reading the data from the cleaned Dataset"
   ]
  },
  {
   "cell_type": "code",
   "execution_count": 9,
   "metadata": {},
   "outputs": [],
   "source": [
    "data = pd.read_csv(\"mbti_cleaned.csv\")\n",
    "data.dropna(inplace=True)"
   ]
  },
  {
   "cell_type": "markdown",
   "metadata": {},
   "source": [
    "## Creating TF-IDF for features"
   ]
  },
  {
   "cell_type": "code",
   "execution_count": 10,
   "metadata": {},
   "outputs": [],
   "source": [
    "x_train, x_test, y_train, y_test = train_test_split(data['Posts'],data['type'], random_state=0)\n",
    "cv = CountVectorizer()\n",
    "tfidf = TfidfTransformer()"
   ]
  },
  {
   "cell_type": "code",
   "execution_count": 11,
   "metadata": {},
   "outputs": [],
   "source": [
    "x_train_counts = cv.fit_transform(x_train)\n",
    "x_train_tfidf = tfidf.fit_transform(x_train_counts)"
   ]
  },
  {
   "cell_type": "markdown",
   "metadata": {},
   "source": [
    "##  Tuning the Hyperparameter alpha"
   ]
  },
  {
   "cell_type": "code",
   "execution_count": 12,
   "metadata": {},
   "outputs": [
    {
     "name": "stdout",
     "output_type": "stream",
     "text": [
      "alpha is:  1e-05 Accuracy is : 0.2888270746407047\n",
      "alpha is:  0.00011 Accuracy is : 0.3031988873435327\n",
      "alpha is:  0.00021 Accuracy is : 0.30783495595734817\n",
      "alpha is:  0.00031000000000000005 Accuracy is : 0.3138618451553083\n",
      "alpha is:  0.00041000000000000005 Accuracy is : 0.3143254520166898\n",
      "alpha is:  0.00051 Accuracy is : 0.3147890588780714\n",
      "alpha is:  0.0006100000000000001 Accuracy is : 0.3157162726008345\n",
      "alpha is:  0.00071 Accuracy is : 0.3184979137691238\n",
      "alpha is:  0.0008100000000000001 Accuracy is : 0.3189615206305053\n",
      "alpha is:  0.0009100000000000001 Accuracy is : 0.3189615206305053\n",
      "alpha is:  0.00101 Accuracy is : 0.32127955493741306\n",
      "alpha is:  0.00111 Accuracy is : 0.3226703755215577\n",
      "alpha is:  0.0012100000000000001 Accuracy is : 0.3231339823829393\n",
      "alpha is:  0.0013100000000000002 Accuracy is : 0.3240611961057024\n",
      "alpha is:  0.00141 Accuracy is : 0.32498840982846544\n",
      "alpha is:  0.00151 Accuracy is : 0.32498840982846544\n",
      "alpha is:  0.00161 Accuracy is : 0.32637923041261013\n",
      "alpha is:  0.0017100000000000001 Accuracy is : 0.32591562355122855\n",
      "alpha is:  0.0018100000000000002 Accuracy is : 0.325452016689847\n",
      "alpha is:  0.00191 Accuracy is : 0.325452016689847\n",
      "alpha is:  0.00201 Accuracy is : 0.3231339823829393\n",
      "alpha is:  0.0021100000000000003 Accuracy is : 0.3226703755215577\n",
      "alpha is:  0.00221 Accuracy is : 0.32174316179879464\n",
      "alpha is:  0.00231 Accuracy is : 0.32220676866017617\n",
      "alpha is:  0.0024100000000000002 Accuracy is : 0.3231339823829393\n",
      "alpha is:  0.00251 Accuracy is : 0.3231339823829393\n",
      "alpha is:  0.0026100000000000003 Accuracy is : 0.32081594807603153\n",
      "alpha is:  0.00271 Accuracy is : 0.32035234121464995\n",
      "alpha is:  0.00281 Accuracy is : 0.32035234121464995\n",
      "alpha is:  0.0029100000000000003 Accuracy is : 0.3198887343532684\n",
      "alpha is:  0.00301 Accuracy is : 0.3194251274918869\n",
      "alpha is:  0.0031100000000000004 Accuracy is : 0.3184979137691238\n",
      "alpha is:  0.00321 Accuracy is : 0.3175707000463607\n",
      "alpha is:  0.00331 Accuracy is : 0.3184979137691238\n",
      "alpha is:  0.0034100000000000003 Accuracy is : 0.31803430690774226\n",
      "alpha is:  0.00351 Accuracy is : 0.3184979137691238\n",
      "alpha is:  0.0036100000000000004 Accuracy is : 0.3198887343532684\n",
      "alpha is:  0.00371 Accuracy is : 0.3189615206305053\n",
      "alpha is:  0.00381 Accuracy is : 0.3184979137691238\n",
      "alpha is:  0.00391 Accuracy is : 0.3175707000463607\n",
      "alpha is:  0.00401 Accuracy is : 0.31710709318497915\n",
      "alpha is:  0.00411 Accuracy is : 0.31617987946221604\n",
      "alpha is:  0.00421 Accuracy is : 0.31664348632359757\n",
      "alpha is:  0.00431 Accuracy is : 0.31664348632359757\n",
      "alpha is:  0.00441 Accuracy is : 0.3138618451553083\n",
      "alpha is:  0.00451 Accuracy is : 0.31339823829392677\n",
      "alpha is:  0.0046099999999999995 Accuracy is : 0.3138618451553083\n",
      "alpha is:  0.00471 Accuracy is : 0.3129346314325452\n",
      "alpha is:  0.00481 Accuracy is : 0.3129346314325452\n",
      "alpha is:  0.0049099999999999994 Accuracy is : 0.31247102457116366\n"
     ]
    }
   ],
   "source": [
    "alpha = np.arange(0.00001,0.1,0.0001)\n",
    "alpha = alpha[:50]\n",
    "accuracy= []\n",
    "for i in alpha:\n",
    "    model = MultinomialNB(alpha = i)\n",
    "    model.fit(x_train_tfidf,y_train)\n",
    "    y_pred = model.predict(cv.transform(x_test))\n",
    "    print(\"alpha is: \",i,\"Accuracy is :\",metrics.accuracy_score(y_test,y_pred))\n",
    "    accuracy.append(metrics.accuracy_score(y_test,y_pred))"
   ]
  },
  {
   "cell_type": "code",
   "execution_count": 13,
   "metadata": {},
   "outputs": [
    {
     "data": {
      "image/png": "[encoded data removed]",
      "text/plain": [
       "<Figure size 432x288 with 1 Axes>"
      ]
     },
     "metadata": {},
     "output_type": "display_data"
    }
   ],
   "source": [
    "import matplotlib.pyplot as plt\n",
    "%matplotlib inline\n",
    "plt.plot(alpha,accuracy)\n",
    "plt.plot(alpha[accuracy.index(max(accuracy))],max(accuracy),\"r+\")\n",
    "plt.show()"
   ]
  },
  {
   "cell_type": "code",
   "execution_count": 18,
   "metadata": {},
   "outputs": [
    {
     "name": "stdout",
     "output_type": "stream",
     "text": [
      "0.32637923041261013\n"
     ]
    },
    {
     "data": {
      "text/plain": [
       "0.00161"
      ]
     },
     "execution_count": 18,
     "metadata": {},
     "output_type": "execute_result"
    }
   ],
   "source": [
    "print(max(accuracy))\n",
    "alpha[accuracy.index(max(accuracy))]\n",
    "#best alpha = 0.0016"
   ]
  },
  {
   "cell_type": "markdown",
   "metadata": {},
   "source": [
    "## Final Model"
   ]
  },
  {
   "cell_type": "code",
   "execution_count": 21,
   "metadata": {},
   "outputs": [],
   "source": [
    "model = MultinomialNB(alpha = 0.0016)\n",
    "model.fit(x_train_tfidf,y_train)\n",
    "y_pred = model.predict(cv.transform(x_test))"
   ]
  },
  {
   "cell_type": "code",
   "execution_count": 22,
   "metadata": {},
   "outputs": [
    {
     "data": {
      "text/plain": [
       "0.32637923041261013"
      ]
     },
     "execution_count": 22,
     "metadata": {},
     "output_type": "execute_result"
    }
   ],
   "source": [
    "metrics.accuracy_score(y_test,y_pred) # model's Accuracy"
   ]
  },
  {
   "cell_type": "code",
   "execution_count": null,
   "metadata": {},
   "outputs": [],
   "source": []
  }
 ],
 "metadata": {
  "kernelspec": {
   "display_name": "Python 3",
   "language": "python",
   "name": "python3"
  },
  "language_info": {
   "codemirror_mode": {
    "name": "ipython",
    "version": 3
   },
   "file_extension": ".py",
   "mimetype": "text/x-python",
   "name": "python",
   "nbconvert_exporter": "python",
   "pygments_lexer": "ipython3",
   "version": "3.6.5"
  }
 },
 "nbformat": 4,
 "nbformat_minor": 2
}
