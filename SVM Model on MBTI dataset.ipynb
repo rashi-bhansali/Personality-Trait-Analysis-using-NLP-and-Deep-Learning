{
 "cells": [
  {
   "cell_type": "code",
   "execution_count": 27,
   "metadata": {},
   "outputs": [],
   "source": [
    "import numpy as np\n",
    "import pandas as pd\n",
    "import matplotlib.pyplot as plt\n",
    "import re\n",
    "import string\n",
    "import nltk"
   ]
  },
  {
   "cell_type": "code",
   "execution_count": 30,
   "metadata": {},
   "outputs": [],
   "source": [
    "data = pd.read_csv(\"mbti_cleaned.csv\")"
   ]
  },
  {
   "cell_type": "markdown",
   "metadata": {},
   "source": [
    "## Feature Extraction using TF-IDF and Count Vectorizer\n",
    "Here we create the TF-IDF Model in order to extract relevant features from the data and send it to the model for classification"
   ]
  },
  {
   "cell_type": "code",
   "execution_count": 31,
   "metadata": {},
   "outputs": [],
   "source": [
    "from sklearn.model_selection import train_test_split\n",
    "from sklearn.feature_extraction.text import CountVectorizer\n",
    "from sklearn.feature_extraction.text import TfidfTransformer"
   ]
  },
  {
   "cell_type": "code",
   "execution_count": 32,
   "metadata": {},
   "outputs": [],
   "source": [
    "data.dropna(inplace= True)\n",
    "#x_train.isna().sum()"
   ]
  },
  {
   "cell_type": "code",
   "execution_count": 33,
   "metadata": {},
   "outputs": [],
   "source": [
    "x_train, x_test, y_train, y_test = train_test_split(data['Posts'],data['type'], random_state=0)\n",
    "c_v = CountVectorizer(stop_words=\"english\")"
   ]
  },
  {
   "cell_type": "code",
   "execution_count": 34,
   "metadata": {},
   "outputs": [],
   "source": [
    "X_train_counts = c_v.fit_transform(x_train)\n",
    "tfidf_transformer = TfidfTransformer()\n",
    "X_train_tfidf = tfidf_transformer.fit_transform(X_train_counts)"
   ]
  },
  {
   "cell_type": "code",
   "execution_count": null,
   "metadata": {},
   "outputs": [],
   "source": []
  },
  {
   "cell_type": "markdown",
   "metadata": {},
   "source": [
    "## Support Vector Machines Model"
   ]
  },
  {
   "cell_type": "code",
   "execution_count": 35,
   "metadata": {},
   "outputs": [],
   "source": [
    "from sklearn.svm import LinearSVC\n",
    "clf = LinearSVC().fit(X_train_tfidf,y_train)\n",
    "y_pred = clf.predict(c_v.transform(x_test))"
   ]
  },
  {
   "cell_type": "code",
   "execution_count": 36,
   "metadata": {},
   "outputs": [
    {
     "name": "stdout",
     "output_type": "stream",
     "text": [
      "             precision    recall  f1-score   support\n",
      "\n",
      "       INFJ       0.73      0.20      0.31        55\n",
      "       ENTP       0.63      0.41      0.49       152\n",
      "       INTP       0.39      0.42      0.40        52\n",
      "       INTJ       0.64      0.46      0.53       178\n",
      "       ENTJ       0.67      0.50      0.57        12\n",
      "       ENFJ       0.00      0.00      0.00        13\n",
      "       INFP       0.00      0.00      0.00         5\n",
      "       ENFP       0.15      0.14      0.15        14\n",
      "       ISFP       0.59      0.66      0.62       396\n",
      "       ISTP       0.53      0.74      0.62       433\n",
      "       ISFJ       0.63      0.59      0.61       286\n",
      "       ISTJ       0.63      0.59      0.61       317\n",
      "       ESTP       0.52      0.46      0.49        28\n",
      "       ESFP       0.43      0.28      0.34        71\n",
      "       ESTJ       0.42      0.45      0.43        56\n",
      "       ESFJ       0.49      0.52      0.50        89\n",
      "\n",
      "avg / total       0.57      0.57      0.56      2157\n",
      "\n"
     ]
    },
    {
     "name": "stderr",
     "output_type": "stream",
     "text": [
      "C:\\Users\\Admin\\Anaconda3\\lib\\site-packages\\sklearn\\metrics\\classification.py:1135: UndefinedMetricWarning: Precision and F-score are ill-defined and being set to 0.0 in labels with no predicted samples.\n",
      "  'precision', 'predicted', average, warn_for)\n"
     ]
    }
   ],
   "source": [
    "from sklearn import metrics\n",
    "print(metrics.classification_report(y_test,y_pred,target_names=data['type'].unique()))\n"
   ]
  },
  {
   "cell_type": "code",
   "execution_count": 37,
   "metadata": {},
   "outputs": [
    {
     "name": "stdout",
     "output_type": "stream",
     "text": [
      "56.88456189151599\n"
     ]
    }
   ],
   "source": [
    "print(metrics.accuracy_score(y_test,y_pred)*100)"
   ]
  },
  {
   "cell_type": "markdown",
   "metadata": {},
   "source": [
    "# Hyper Parameter Tuning"
   ]
  },
  {
   "cell_type": "code",
   "execution_count": 24,
   "metadata": {},
   "outputs": [
    {
     "name": "stdout",
     "output_type": "stream",
     "text": [
      "C is:  0.1 Accuracy is : 0.566507684154743\n",
      "C is:  0.11 Accuracy is : 0.5659777424483307\n",
      "C is:  0.12 Accuracy is : 0.5675675675675675\n",
      "C is:  0.13 Accuracy is : 0.566507684154743\n",
      "C is:  0.13999999999999999 Accuracy is : 0.5659777424483307\n",
      "C is:  0.14999999999999997 Accuracy is : 0.5670376258611552\n",
      "C is:  0.15999999999999998 Accuracy is : 0.5670376258611552\n",
      "C is:  0.16999999999999998 Accuracy is : 0.5686274509803921\n",
      "C is:  0.17999999999999997 Accuracy is : 0.5680975092739798\n",
      "C is:  0.18999999999999995 Accuracy is : 0.5680975092739798\n",
      "C is:  0.19999999999999996 Accuracy is : 0.5670376258611552\n",
      "C is:  0.20999999999999996 Accuracy is : 0.566507684154743\n",
      "C is:  0.21999999999999995 Accuracy is : 0.5649178590355061\n",
      "C is:  0.22999999999999995 Accuracy is : 0.5654478007419184\n",
      "C is:  0.23999999999999994 Accuracy is : 0.5643879173290938\n",
      "C is:  0.24999999999999992 Accuracy is : 0.5633280339162692\n",
      "C is:  0.2599999999999999 Accuracy is : 0.5643879173290938\n",
      "C is:  0.2699999999999999 Accuracy is : 0.5643879173290938\n",
      "C is:  0.2799999999999999 Accuracy is : 0.5633280339162692\n",
      "C is:  0.2899999999999999 Accuracy is : 0.5633280339162692\n",
      "C is:  0.29999999999999993 Accuracy is : 0.5638579756226815\n",
      "C is:  0.30999999999999994 Accuracy is : 0.5649178590355061\n",
      "C is:  0.3199999999999999 Accuracy is : 0.5649178590355061\n",
      "C is:  0.32999999999999985 Accuracy is : 0.5638579756226815\n",
      "C is:  0.33999999999999986 Accuracy is : 0.5638579756226815\n",
      "C is:  0.34999999999999987 Accuracy is : 0.5627980922098569\n",
      "C is:  0.3599999999999999 Accuracy is : 0.5622681505034446\n",
      "C is:  0.3699999999999999 Accuracy is : 0.5622681505034446\n",
      "C is:  0.3799999999999999 Accuracy is : 0.5617382087970323\n",
      "C is:  0.3899999999999999 Accuracy is : 0.56120826709062\n",
      "C is:  0.3999999999999998 Accuracy is : 0.5606783253842077\n",
      "C is:  0.4099999999999998 Accuracy is : 0.5601483836777954\n",
      "C is:  0.4199999999999998 Accuracy is : 0.5601483836777954\n",
      "C is:  0.4299999999999998 Accuracy is : 0.5596184419713831\n",
      "C is:  0.43999999999999984 Accuracy is : 0.5596184419713831\n",
      "C is:  0.44999999999999984 Accuracy is : 0.5596184419713831\n",
      "C is:  0.45999999999999985 Accuracy is : 0.5580286168521462\n",
      "C is:  0.46999999999999986 Accuracy is : 0.5585585585585585\n",
      "C is:  0.47999999999999976 Accuracy is : 0.5585585585585585\n",
      "C is:  0.48999999999999977 Accuracy is : 0.5590885002649708\n",
      "C is:  0.4999999999999998 Accuracy is : 0.5596184419713831\n",
      "C is:  0.5099999999999998 Accuracy is : 0.5606783253842077\n",
      "C is:  0.5199999999999998 Accuracy is : 0.5601483836777954\n",
      "C is:  0.5299999999999998 Accuracy is : 0.5596184419713831\n",
      "C is:  0.5399999999999998 Accuracy is : 0.5590885002649708\n",
      "C is:  0.5499999999999998 Accuracy is : 0.5596184419713831\n",
      "C is:  0.5599999999999997 Accuracy is : 0.5596184419713831\n",
      "C is:  0.5699999999999997 Accuracy is : 0.5596184419713831\n",
      "C is:  0.5799999999999997 Accuracy is : 0.5590885002649708\n",
      "C is:  0.5899999999999997 Accuracy is : 0.5590885002649708\n",
      "C is:  0.5999999999999998 Accuracy is : 0.5601483836777954\n",
      "C is:  0.6099999999999998 Accuracy is : 0.5590885002649708\n",
      "C is:  0.6199999999999998 Accuracy is : 0.5590885002649708\n",
      "C is:  0.6299999999999997 Accuracy is : 0.5596184419713831\n",
      "C is:  0.6399999999999997 Accuracy is : 0.5590885002649708\n",
      "C is:  0.6499999999999997 Accuracy is : 0.5590885002649708\n",
      "C is:  0.6599999999999997 Accuracy is : 0.5590885002649708\n",
      "C is:  0.6699999999999997 Accuracy is : 0.5590885002649708\n",
      "C is:  0.6799999999999997 Accuracy is : 0.5590885002649708\n",
      "C is:  0.6899999999999997 Accuracy is : 0.5590885002649708\n",
      "C is:  0.6999999999999996 Accuracy is : 0.5590885002649708\n",
      "C is:  0.7099999999999996 Accuracy is : 0.5590885002649708\n",
      "C is:  0.7199999999999996 Accuracy is : 0.5585585585585585\n",
      "C is:  0.7299999999999996 Accuracy is : 0.5585585585585585\n",
      "C is:  0.7399999999999997 Accuracy is : 0.5585585585585585\n",
      "C is:  0.7499999999999997 Accuracy is : 0.5585585585585585\n",
      "C is:  0.7599999999999997 Accuracy is : 0.5574986751457339\n",
      "C is:  0.7699999999999997 Accuracy is : 0.5569687334393216\n",
      "C is:  0.7799999999999997 Accuracy is : 0.5564387917329093\n",
      "C is:  0.7899999999999996 Accuracy is : 0.5564387917329093\n",
      "C is:  0.7999999999999996 Accuracy is : 0.5564387917329093\n",
      "C is:  0.8099999999999996 Accuracy is : 0.555908850026497\n",
      "C is:  0.8199999999999996 Accuracy is : 0.5564387917329093\n",
      "C is:  0.8299999999999996 Accuracy is : 0.5574986751457339\n",
      "C is:  0.8399999999999996 Accuracy is : 0.5574986751457339\n",
      "C is:  0.8499999999999996 Accuracy is : 0.5574986751457339\n",
      "C is:  0.8599999999999995 Accuracy is : 0.5574986751457339\n",
      "C is:  0.8699999999999996 Accuracy is : 0.5569687334393216\n",
      "C is:  0.8799999999999996 Accuracy is : 0.5569687334393216\n",
      "C is:  0.8899999999999996 Accuracy is : 0.5564387917329093\n",
      "C is:  0.8999999999999996 Accuracy is : 0.5548489666136724\n",
      "C is:  0.9099999999999996 Accuracy is : 0.5553789083200847\n",
      "C is:  0.9199999999999996 Accuracy is : 0.5553789083200847\n",
      "C is:  0.9299999999999996 Accuracy is : 0.5553789083200847\n",
      "C is:  0.9399999999999996 Accuracy is : 0.5548489666136724\n",
      "C is:  0.9499999999999995 Accuracy is : 0.5543190249072601\n",
      "C is:  0.9599999999999995 Accuracy is : 0.5543190249072601\n",
      "C is:  0.9699999999999995 Accuracy is : 0.5537890832008479\n",
      "C is:  0.9799999999999995 Accuracy is : 0.5532591414944356\n",
      "C is:  0.9899999999999995 Accuracy is : 0.5527291997880233\n"
     ]
    }
   ],
   "source": [
    "C = np.arange(0.1,1,0.01)\n",
    "accuracy=[]\n",
    "for i in C:\n",
    "    clf = LinearSVC(C=i).fit(X_train_tfidf,y_train)\n",
    "    y_pred = clf.predict(c_v.transform(x_test))\n",
    "    print(\"C is: \",i,\"Accuracy is :\",metrics.accuracy_score(y_test,y_pred))\n",
    "    accuracy.append(metrics.accuracy_score(y_test,y_pred))"
   ]
  },
  {
   "cell_type": "code",
   "execution_count": null,
   "metadata": {},
   "outputs": [],
   "source": [
    "print(accuracy.index(max(accuracy)))\n",
    "C[accuracy.index(max(accuracy))]"
   ]
  },
  {
   "cell_type": "code",
   "execution_count": 39,
   "metadata": {},
   "outputs": [],
   "source": [
    "clf = LinearSVC(C=0.1699).fit(X_train_tfidf,y_train)\n",
    "y_pred = clf.predict(c_v.transform(x_test))"
   ]
  },
  {
   "cell_type": "code",
   "execution_count": 44,
   "metadata": {},
   "outputs": [
    {
     "data": {
      "text/plain": [
       "57.9044969865554"
      ]
     },
     "execution_count": 44,
     "metadata": {},
     "output_type": "execute_result"
    }
   ],
   "source": [
    "metrics.accuracy_score(y_test,y_pred)*100   # best Accuracy "
   ]
  },
  {
   "cell_type": "code",
   "execution_count": null,
   "metadata": {},
   "outputs": [],
   "source": []
  }
 ],
 "metadata": {
  "kernelspec": {
   "display_name": "Python 3",
   "language": "python",
   "name": "python3"
  },
  "language_info": {
   "codemirror_mode": {
    "name": "ipython",
    "version": 3
   },
   "file_extension": ".py",
   "mimetype": "text/x-python",
   "name": "python",
   "nbconvert_exporter": "python",
   "pygments_lexer": "ipython3",
   "version": "3.6.5"
  }
 },
 "nbformat": 4,
 "nbformat_minor": 2
}
