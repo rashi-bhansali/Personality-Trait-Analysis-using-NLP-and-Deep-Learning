{
 "cells": [
  {
   "cell_type": "code",
   "execution_count": 25,
   "metadata": {},
   "outputs": [],
   "source": [
    "import numpy as np\n",
    "import pandas as pd\n",
    "import matplotlib.pyplot as plt\n",
    "import re\n",
    "import string\n",
    "import nltk"
   ]
  },
  {
   "cell_type": "code",
   "execution_count": 26,
   "metadata": {},
   "outputs": [],
   "source": [
    "data = pd.read_csv(\"mbti_cleaned.csv\")"
   ]
  },
  {
   "cell_type": "markdown",
   "metadata": {},
   "source": [
    "## Feature Extraction using TF-IDF and Count Vectorizer\n",
    "Here we create the TF-IDF Model in order to extract relevant features from the data and send it to the model for classification"
   ]
  },
  {
   "cell_type": "code",
   "execution_count": 27,
   "metadata": {},
   "outputs": [],
   "source": [
    "from sklearn.model_selection import train_test_split\n",
    "from sklearn.feature_extraction.text import CountVectorizer\n",
    "from sklearn.feature_extraction.text import TfidfTransformer"
   ]
  },
  {
   "cell_type": "code",
   "execution_count": 28,
   "metadata": {},
   "outputs": [],
   "source": [
    "data.dropna(inplace= True)"
   ]
  },
  {
   "cell_type": "code",
   "execution_count": 29,
   "metadata": {},
   "outputs": [
    {
     "data": {
      "text/plain": [
       "0"
      ]
     },
     "execution_count": 29,
     "metadata": {},
     "output_type": "execute_result"
    }
   ],
   "source": [
    "x_train, x_test, y_train, y_test = train_test_split(data['Posts'],data['type'], random_state=0)\n",
    "c_v = CountVectorizer() \n",
    "x_train.isna().sum()"
   ]
  },
  {
   "cell_type": "code",
   "execution_count": 30,
   "metadata": {},
   "outputs": [],
   "source": [
    "X_train_counts = c_v.fit_transform(x_train)\n",
    "tfidf_transformer = TfidfTransformer()\n",
    "X_train_tfidf = tfidf_transformer.fit_transform(X_train_counts)"
   ]
  },
  {
   "cell_type": "code",
   "execution_count": null,
   "metadata": {},
   "outputs": [],
   "source": []
  },
  {
   "cell_type": "markdown",
   "metadata": {},
   "source": [
    "## Support Vector Machines Model"
   ]
  },
  {
   "cell_type": "code",
   "execution_count": 31,
   "metadata": {},
   "outputs": [],
   "source": [
    "from sklearn.svm import LinearSVC\n",
    "clf = LinearSVC().fit(X_train_tfidf, y_train)\n",
    "y_pred = clf.predict(c_v.transform(x_test))"
   ]
  },
  {
   "cell_type": "code",
   "execution_count": 32,
   "metadata": {},
   "outputs": [
    {
     "name": "stdout",
     "output_type": "stream",
     "text": [
      "              precision    recall  f1-score   support\n",
      "\n",
      "        INFJ       0.54      0.61      0.57       337\n",
      "        ENTP       0.57      0.37      0.45       151\n",
      "        INTP       0.65      0.59      0.62       285\n",
      "        INTJ       0.55      0.52      0.53       230\n",
      "        ENTJ       0.36      0.38      0.37        53\n",
      "        INFP       0.55      0.52      0.53       230\n",
      "        ENFP       0.54      0.61      0.57       337\n",
      "        ISFP       0.55      0.52      0.53       230\n",
      "        ENFJ       0.54      0.61      0.57       337\n",
      "        ISTP       0.65      0.59      0.62       285\n",
      "        ISFJ       0.54      0.61      0.57       337\n",
      "        ISTJ       0.54      0.61      0.57       337\n",
      "        ESTP       0.55      0.52      0.53       230\n",
      "        ESFP       0.65      0.59      0.62       285\n",
      "        ESTJ       0.65      0.59      0.62       285\n",
      "        ESFJ       0.59      0.68      0.63       398\n",
      "\n",
      "   micro avg       0.57      0.60      0.58   1860762\n",
      "   macro avg       0.54      0.54      0.53   1860762\n",
      "weighted avg       0.57      0.60      0.58   1860762\n",
      "\n"
     ]
    },
    {
     "name": "stderr",
     "output_type": "stream",
     "text": [
      "C:\\ProgramData\\Anaconda3\\lib\\site-packages\\sklearn\\metrics\\classification.py:1537: UserWarning: labels size, 7545, does not match size of target_names, 16\n",
      "  .format(len(labels), len(target_names))\n",
      "C:\\ProgramData\\Anaconda3\\lib\\site-packages\\sklearn\\metrics\\classification.py:1143: UndefinedMetricWarning: Precision and F-score are ill-defined and being set to 0.0 in labels with no predicted samples.\n",
      "  'precision', 'predicted', average, warn_for)\n"
     ]
    }
   ],
   "source": [
    "from sklearn import metrics\n",
    "print(metrics.classification_report(y_test,y_pred, labels= data.type, target_names=data['type'].unique()))\n"
   ]
  },
  {
   "cell_type": "code",
   "execution_count": 37,
   "metadata": {},
   "outputs": [
    {
     "name": "stdout",
     "output_type": "stream",
     "text": [
      "[[  7   1   0   0   0   1   0   0   1   4   0   0   0   0   0   1]\n",
      " [  3  68   2  16   0   1   0   1  17  21  11   4   1   2   3   2]\n",
      " [  0   2  20  12   0   0   0   2   3   2   4   6   2   2   0   1]\n",
      " [  1   4   2  56   0   1   0   1  11   3  10   6   0   1   1   2]\n",
      " [  1   1   0   1   4   1   0   0   0   1   0   2   0   0   0   0]\n",
      " [  0   0   0   0   0   0   0   0   0   0   0   0   0   0   0   0]\n",
      " [  0   0   0   0   0   0   0   0   0   0   0   1   0   0   0   0]\n",
      " [  0   1   1   1   0   0   0   7   0   1   0   0   0   1   0   1]\n",
      " [ 14  17   5  14   1   0   0   3 204  60  28  18   4   5   2   1]\n",
      " [ 11  25   6  12   2   0   2   2  57 271  16  30   6  11   4   4]\n",
      " [  3   9   6  13   1   0   1   0  15   6 119  31   3   2   5   3]\n",
      " [  3   5   7  14   1   1   1   2   8  11  21 169   2   4   2  10]\n",
      " [  0   1   0   0   0   0   0   0   0   0   1   0  11   0   1   0]\n",
      " [  1   3   2   2   0   1   0   0   5   7   4   2   1  15   0   3]\n",
      " [  2   2   1   5   0   0   3   1   8   9  10   6   3   0  22   5]\n",
      " [  2   4   1   5   0   2   2   3   8   2   6  10   1   2   0  42]]\n"
     ]
    }
   ],
   "source": [
    "print(metrics.confusion_matrix(y_pred, y_test))"
   ]
  },
  {
   "cell_type": "code",
   "execution_count": null,
   "metadata": {},
   "outputs": [],
   "source": []
  }
 ],
 "metadata": {
  "kernelspec": {
   "display_name": "Python 3",
   "language": "python",
   "name": "python3"
  },
  "language_info": {
   "codemirror_mode": {
    "name": "ipython",
    "version": 3
   },
   "file_extension": ".py",
   "mimetype": "text/x-python",
   "name": "python",
   "nbconvert_exporter": "python",
   "pygments_lexer": "ipython3",
   "version": "3.7.1"
  }
 },
 "nbformat": 4,
 "nbformat_minor": 2
}
